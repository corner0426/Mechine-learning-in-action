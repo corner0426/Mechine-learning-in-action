{
 "cells": [
  {
   "cell_type": "code",
   "execution_count": 1,
   "metadata": {},
   "outputs": [],
   "source": [
    "from numpy import *\n",
    "import operator"
   ]
  },
  {
   "cell_type": "code",
   "execution_count": 3,
   "metadata": {},
   "outputs": [],
   "source": [
    "#创建训练样本集\n",
    "def createDataSet():\n",
    "    group = array([[1.0,1.1],[1.0,1.0],[0,0],[0,0.1]])\n",
    "    labels = ['A','A','B','B']\n",
    "    return group, labels"
   ]
  },
  {
   "cell_type": "code",
   "execution_count": 6,
   "metadata": {},
   "outputs": [
    {
     "name": "stdout",
     "output_type": "stream",
     "text": [
      "[[1.  1.1]\n",
      " [1.  1. ]\n",
      " [0.  0. ]\n",
      " [0.  0.1]]\n",
      "['A', 'A', 'B', 'B']\n"
     ]
    }
   ],
   "source": [
    "group,labels = createDataSet()\n",
    "#向量labels包含了每个数据点的标签信息，labels包含的元素个数等\n",
    "#于group矩阵行数。这里我们将数据点(1, 1.1)定义为类A，数据点(0, 0.1)\n",
    "#定义为类B\n",
    "print (group)\n",
    "print (labels)"
   ]
  },
  {
   "cell_type": "code",
   "execution_count": 27,
   "metadata": {},
   "outputs": [
    {
     "name": "stdout",
     "output_type": "stream",
     "text": [
      "[[-1.  -1.1]\n",
      " [-1.  -1. ]\n",
      " [ 0.   0. ]\n",
      " [ 0.  -0.1]]\n",
      "[[1.   1.21]\n",
      " [1.   1.  ]\n",
      " [0.   0.  ]\n",
      " [0.   0.01]]\n",
      "[2.21 2.   0.   0.01]\n",
      "[1.04044616 1.03526492 0.         0.79432823]\n",
      "[2 3 1 0]\n"
     ]
    }
   ],
   "source": [
    "a = [0,0]\n",
    "b = tile(a, (4,1)) - group\n",
    "c = b ** 2\n",
    "d = c.sum(axis = 1) #在行水平加和，每一行是一个样本\n",
    "e = d**0.05\n",
    "f = d.argsort()#返回从小到大排序后的索引值\n",
    "\n",
    "print(b)\n",
    "print (c)\n",
    "print (d)\n",
    "print (e)\n",
    "print (f)"
   ]
  },
  {
   "cell_type": "code",
   "execution_count": 35,
   "metadata": {},
   "outputs": [],
   "source": [
    "#实施KNN分类算法\n",
    "#classify0()函数有4个输入参数：用于分类的输入向量是inX，输入\n",
    "#的训练样本集为dataSet，标签向量为labels，最后的参数k表示用于选\n",
    "#择最近邻居的数目，其中标签向量的元素数目和矩阵dataSet的行数相同\n",
    "def classify0(inX, dataSet, labels, k):\n",
    "    #获取训练样本集数组行数，本例是4\n",
    "    dataSetSize = dataSet.shape[0]\n",
    "    \n",
    "    #对inX数组按照（4，1）进行扩展（目的是将一个目标值数组扩展成与训练样本集相同的维度），然后减去datase数组\n",
    "    diffMat = tile(inX, (dataSetSize,1)) - dataSet\n",
    "    sqDiffMat = diffMat**2\n",
    "    #在行水平相加，每一行是一个样本，计算得到距离\n",
    "    sqDistances = sqDiffMat.sum(axis=1)\n",
    "    distances = sqDistances**0.5\n",
    "    #返回数组从小到大后的索引值\n",
    "    sortedDistIndicies = distances.argsort()\n",
    "    #以下两行选择距离最小的K个点\n",
    "    classCount = {}\n",
    "    for i in range(k):\n",
    "        #voteIlable存储距离从1-K的训练样本类别\n",
    "        voteIlabel = labels[sortedDistIndicies[i]]\n",
    "        #字典键是训练样本类别，值是该样本类别出现的个数\n",
    "        classCount[voteIlabel] = classCount.get(voteIlabel,0) + 1\n",
    "        \n",
    "    #字典按值大小反向排序\n",
    "    sortedClassCount = sorted(classCount.items(), key=lambda x:x[1],reverse=True)\n",
    "    #sortedClassCount = sorted(classCount.iteritems(),key=operator.itemgetter(1), reverse=True)\n",
    "    \n",
    "    return sortedClassCount[0][0]"
   ]
  },
  {
   "cell_type": "code",
   "execution_count": 36,
   "metadata": {},
   "outputs": [
    {
     "data": {
      "text/plain": [
       "'B'"
      ]
     },
     "execution_count": 36,
     "metadata": {},
     "output_type": "execute_result"
    }
   ],
   "source": [
    "classify0([0,0], group, labels, 3)"
   ]
  },
  {
   "cell_type": "code",
   "execution_count": 31,
   "metadata": {},
   "outputs": [
    {
     "data": {
      "text/plain": [
       "dict_items([('a', 83), ('f', 76), ('c', 67), ('e', 84), ('b', 68), ('d', 99)])"
      ]
     },
     "execution_count": 31,
     "metadata": {},
     "output_type": "execute_result"
    }
   ],
   "source": [
    "dict_data = {'a': 83, 'f': 76, 'c': 67, 'e': 84, 'b': 68, 'd': 99}\n",
    "dict_data.items()"
   ]
  },
  {
   "cell_type": "code",
   "execution_count": 33,
   "metadata": {},
   "outputs": [
    {
     "data": {
      "text/plain": [
       "[('d', 99), ('e', 84), ('a', 83), ('f', 76), ('b', 68), ('c', 67)]"
      ]
     },
     "execution_count": 33,
     "metadata": {},
     "output_type": "execute_result"
    }
   ],
   "source": [
    "sorted(dict_data.items(), key=lambda x:x[1],reverse=True)"
   ]
  },
  {
   "cell_type": "code",
   "execution_count": null,
   "metadata": {},
   "outputs": [],
   "source": []
  }
 ],
 "metadata": {
  "kernelspec": {
   "display_name": "Python 3",
   "language": "python",
   "name": "python3"
  },
  "language_info": {
   "codemirror_mode": {
    "name": "ipython",
    "version": 3
   },
   "file_extension": ".py",
   "mimetype": "text/x-python",
   "name": "python",
   "nbconvert_exporter": "python",
   "pygments_lexer": "ipython3",
   "version": "3.7.1"
  }
 },
 "nbformat": 4,
 "nbformat_minor": 2
}
